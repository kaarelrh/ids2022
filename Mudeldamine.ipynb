{
 "cells": [
  {
   "cell_type": "markdown",
   "id": "80aafe9c",
   "metadata": {},
   "source": [
    "# IDS2022 Project"
   ]
  },
  {
   "cell_type": "code",
   "execution_count": 1,
   "id": "28eae072",
   "metadata": {},
   "outputs": [],
   "source": [
    "# importing \n",
    "import pandas as pd\n",
    "import numpy as np\n",
    "from matplotlib import pyplot as plt\n",
    "from sklearn.model_selection import train_test_split"
   ]
  },
  {
   "cell_type": "code",
   "execution_count": 2,
   "id": "aa82d23d",
   "metadata": {},
   "outputs": [],
   "source": [
    "data = pd.read_csv(\"clean_data.csv\")"
   ]
  },
  {
   "cell_type": "code",
   "execution_count": 3,
   "id": "1a933ee1",
   "metadata": {},
   "outputs": [
    {
     "data": {
      "text/html": [
       "<div>\n",
       "<style scoped>\n",
       "    .dataframe tbody tr th:only-of-type {\n",
       "        vertical-align: middle;\n",
       "    }\n",
       "\n",
       "    .dataframe tbody tr th {\n",
       "        vertical-align: top;\n",
       "    }\n",
       "\n",
       "    .dataframe thead th {\n",
       "        text-align: right;\n",
       "    }\n",
       "</style>\n",
       "<table border=\"1\" class=\"dataframe\">\n",
       "  <thead>\n",
       "    <tr style=\"text-align: right;\">\n",
       "      <th></th>\n",
       "      <th>ToimKpv</th>\n",
       "      <th>ToimKell</th>\n",
       "      <th>ToimNadalapaev</th>\n",
       "      <th>SyndmusLiik</th>\n",
       "      <th>Kahjusumma</th>\n",
       "      <th>KohtLiik</th>\n",
       "      <th>MaakondNimetus</th>\n",
       "      <th>ValdLinnNimetus</th>\n",
       "      <th>KohtNimetus</th>\n",
       "      <th>Lest_X</th>\n",
       "      <th>Lest_Y</th>\n",
       "      <th>SyyteoLiik</th>\n",
       "    </tr>\n",
       "  </thead>\n",
       "  <tbody>\n",
       "    <tr>\n",
       "      <th>0</th>\n",
       "      <td>2021-12-31</td>\n",
       "      <td>23</td>\n",
       "      <td>Reede</td>\n",
       "      <td>PISIVARGUS</td>\n",
       "      <td>0-499</td>\n",
       "      <td>AVALIK_KOHT,KAUPLUS</td>\n",
       "      <td>Harju maakond</td>\n",
       "      <td>Tallinn</td>\n",
       "      <td>Mustamäe linnaosa</td>\n",
       "      <td>6586000-6586499</td>\n",
       "      <td>538500-538999</td>\n",
       "      <td>VT</td>\n",
       "    </tr>\n",
       "    <tr>\n",
       "      <th>1</th>\n",
       "      <td>2021-12-31</td>\n",
       "      <td>18</td>\n",
       "      <td>Reede</td>\n",
       "      <td>VARGUS</td>\n",
       "      <td>0-499</td>\n",
       "      <td>AVALIK_KOHT,KAUPLUS</td>\n",
       "      <td>Harju maakond</td>\n",
       "      <td>Tallinn</td>\n",
       "      <td>Nõmme linnaosa</td>\n",
       "      <td>6583500-6583999</td>\n",
       "      <td>540500-540999</td>\n",
       "      <td>KT</td>\n",
       "    </tr>\n",
       "    <tr>\n",
       "      <th>2</th>\n",
       "      <td>2021-12-31</td>\n",
       "      <td>18</td>\n",
       "      <td>Reede</td>\n",
       "      <td>VARGUS</td>\n",
       "      <td>0-499</td>\n",
       "      <td>AVALIK_KOHT,KAUPLUS</td>\n",
       "      <td>Harju maakond</td>\n",
       "      <td>Tallinn</td>\n",
       "      <td>Nõmme linnaosa</td>\n",
       "      <td>6583500-6583999</td>\n",
       "      <td>540500-540999</td>\n",
       "      <td>KT</td>\n",
       "    </tr>\n",
       "    <tr>\n",
       "      <th>3</th>\n",
       "      <td>2021-12-31</td>\n",
       "      <td>16</td>\n",
       "      <td>Reede</td>\n",
       "      <td>VARGUS</td>\n",
       "      <td>0-499</td>\n",
       "      <td>AVALIK_KOHT,TANAV_VALJAK</td>\n",
       "      <td>Harju maakond</td>\n",
       "      <td>Tallinn</td>\n",
       "      <td>Kesklinna linnaosa</td>\n",
       "      <td>6588500-6588999</td>\n",
       "      <td>542500-542999</td>\n",
       "      <td>KT</td>\n",
       "    </tr>\n",
       "    <tr>\n",
       "      <th>4</th>\n",
       "      <td>2021-12-31</td>\n",
       "      <td>15</td>\n",
       "      <td>Reede</td>\n",
       "      <td>VARGUS</td>\n",
       "      <td>0-499</td>\n",
       "      <td>AVALIK_KOHT,KAUPLUS</td>\n",
       "      <td>Harju maakond</td>\n",
       "      <td>Tallinn</td>\n",
       "      <td>Lasnamäe linnaosa</td>\n",
       "      <td>6589500-6589999</td>\n",
       "      <td>548500-548999</td>\n",
       "      <td>KT</td>\n",
       "    </tr>\n",
       "  </tbody>\n",
       "</table>\n",
       "</div>"
      ],
      "text/plain": [
       "      ToimKpv  ToimKell ToimNadalapaev SyndmusLiik Kahjusumma  \\\n",
       "0  2021-12-31        23     Reede       PISIVARGUS      0-499   \n",
       "1  2021-12-31        18     Reede           VARGUS      0-499   \n",
       "2  2021-12-31        18     Reede           VARGUS      0-499   \n",
       "3  2021-12-31        16     Reede           VARGUS      0-499   \n",
       "4  2021-12-31        15     Reede           VARGUS      0-499   \n",
       "\n",
       "                   KohtLiik MaakondNimetus ValdLinnNimetus  \\\n",
       "0       AVALIK_KOHT,KAUPLUS  Harju maakond         Tallinn   \n",
       "1       AVALIK_KOHT,KAUPLUS  Harju maakond         Tallinn   \n",
       "2       AVALIK_KOHT,KAUPLUS  Harju maakond         Tallinn   \n",
       "3  AVALIK_KOHT,TANAV_VALJAK  Harju maakond         Tallinn   \n",
       "4       AVALIK_KOHT,KAUPLUS  Harju maakond         Tallinn   \n",
       "\n",
       "          KohtNimetus           Lest_X         Lest_Y SyyteoLiik  \n",
       "0   Mustamäe linnaosa  6586000-6586499  538500-538999         VT  \n",
       "1      Nõmme linnaosa  6583500-6583999  540500-540999         KT  \n",
       "2      Nõmme linnaosa  6583500-6583999  540500-540999         KT  \n",
       "3  Kesklinna linnaosa  6588500-6588999  542500-542999         KT  \n",
       "4   Lasnamäe linnaosa  6589500-6589999  548500-548999         KT  "
      ]
     },
     "execution_count": 3,
     "metadata": {},
     "output_type": "execute_result"
    }
   ],
   "source": [
    "# data.head()\n",
    "# ToimKell into 1 hour time intervsls\n",
    "data[\"ToimKell\"] = pd.to_datetime(data[\"ToimKell\"], format='%H:%M')\n",
    "data[\"ToimKell\"] = data[\"ToimKell\"].dt.hour\n",
    "data.head()"
   ]
  },
  {
   "cell_type": "code",
   "execution_count": 4,
   "id": "ae239d73",
   "metadata": {},
   "outputs": [
    {
     "data": {
      "text/html": [
       "<div>\n",
       "<style scoped>\n",
       "    .dataframe tbody tr th:only-of-type {\n",
       "        vertical-align: middle;\n",
       "    }\n",
       "\n",
       "    .dataframe tbody tr th {\n",
       "        vertical-align: top;\n",
       "    }\n",
       "\n",
       "    .dataframe thead th {\n",
       "        text-align: right;\n",
       "    }\n",
       "</style>\n",
       "<table border=\"1\" class=\"dataframe\">\n",
       "  <thead>\n",
       "    <tr style=\"text-align: right;\">\n",
       "      <th></th>\n",
       "      <th>ToimKpv</th>\n",
       "      <th>ToimKell</th>\n",
       "      <th>ToimNadalapaev</th>\n",
       "      <th>SyndmusLiik</th>\n",
       "      <th>Kahjusumma</th>\n",
       "      <th>KohtLiik</th>\n",
       "      <th>MaakondNimetus</th>\n",
       "      <th>ValdLinnNimetus</th>\n",
       "      <th>KohtNimetus</th>\n",
       "      <th>Lest_X</th>\n",
       "      <th>Lest_Y</th>\n",
       "      <th>SyyteoLiik</th>\n",
       "      <th>Aasta</th>\n",
       "      <th>Kuu</th>\n",
       "      <th>Kuupaev</th>\n",
       "    </tr>\n",
       "  </thead>\n",
       "  <tbody>\n",
       "    <tr>\n",
       "      <th>0</th>\n",
       "      <td>2021-12-31</td>\n",
       "      <td>23</td>\n",
       "      <td>Reede</td>\n",
       "      <td>PISIVARGUS</td>\n",
       "      <td>0-499</td>\n",
       "      <td>AVALIK_KOHT,KAUPLUS</td>\n",
       "      <td>Harju maakond</td>\n",
       "      <td>Tallinn</td>\n",
       "      <td>Mustamäe linnaosa</td>\n",
       "      <td>6586000-6586499</td>\n",
       "      <td>538500-538999</td>\n",
       "      <td>VT</td>\n",
       "      <td>2021</td>\n",
       "      <td>12</td>\n",
       "      <td>31</td>\n",
       "    </tr>\n",
       "    <tr>\n",
       "      <th>1</th>\n",
       "      <td>2021-12-31</td>\n",
       "      <td>18</td>\n",
       "      <td>Reede</td>\n",
       "      <td>VARGUS</td>\n",
       "      <td>0-499</td>\n",
       "      <td>AVALIK_KOHT,KAUPLUS</td>\n",
       "      <td>Harju maakond</td>\n",
       "      <td>Tallinn</td>\n",
       "      <td>Nõmme linnaosa</td>\n",
       "      <td>6583500-6583999</td>\n",
       "      <td>540500-540999</td>\n",
       "      <td>KT</td>\n",
       "      <td>2021</td>\n",
       "      <td>12</td>\n",
       "      <td>31</td>\n",
       "    </tr>\n",
       "    <tr>\n",
       "      <th>2</th>\n",
       "      <td>2021-12-31</td>\n",
       "      <td>18</td>\n",
       "      <td>Reede</td>\n",
       "      <td>VARGUS</td>\n",
       "      <td>0-499</td>\n",
       "      <td>AVALIK_KOHT,KAUPLUS</td>\n",
       "      <td>Harju maakond</td>\n",
       "      <td>Tallinn</td>\n",
       "      <td>Nõmme linnaosa</td>\n",
       "      <td>6583500-6583999</td>\n",
       "      <td>540500-540999</td>\n",
       "      <td>KT</td>\n",
       "      <td>2021</td>\n",
       "      <td>12</td>\n",
       "      <td>31</td>\n",
       "    </tr>\n",
       "    <tr>\n",
       "      <th>3</th>\n",
       "      <td>2021-12-31</td>\n",
       "      <td>16</td>\n",
       "      <td>Reede</td>\n",
       "      <td>VARGUS</td>\n",
       "      <td>0-499</td>\n",
       "      <td>AVALIK_KOHT,TANAV_VALJAK</td>\n",
       "      <td>Harju maakond</td>\n",
       "      <td>Tallinn</td>\n",
       "      <td>Kesklinna linnaosa</td>\n",
       "      <td>6588500-6588999</td>\n",
       "      <td>542500-542999</td>\n",
       "      <td>KT</td>\n",
       "      <td>2021</td>\n",
       "      <td>12</td>\n",
       "      <td>31</td>\n",
       "    </tr>\n",
       "    <tr>\n",
       "      <th>4</th>\n",
       "      <td>2021-12-31</td>\n",
       "      <td>15</td>\n",
       "      <td>Reede</td>\n",
       "      <td>VARGUS</td>\n",
       "      <td>0-499</td>\n",
       "      <td>AVALIK_KOHT,KAUPLUS</td>\n",
       "      <td>Harju maakond</td>\n",
       "      <td>Tallinn</td>\n",
       "      <td>Lasnamäe linnaosa</td>\n",
       "      <td>6589500-6589999</td>\n",
       "      <td>548500-548999</td>\n",
       "      <td>KT</td>\n",
       "      <td>2021</td>\n",
       "      <td>12</td>\n",
       "      <td>31</td>\n",
       "    </tr>\n",
       "  </tbody>\n",
       "</table>\n",
       "</div>"
      ],
      "text/plain": [
       "     ToimKpv  ToimKell ToimNadalapaev SyndmusLiik Kahjusumma  \\\n",
       "0 2021-12-31        23     Reede       PISIVARGUS      0-499   \n",
       "1 2021-12-31        18     Reede           VARGUS      0-499   \n",
       "2 2021-12-31        18     Reede           VARGUS      0-499   \n",
       "3 2021-12-31        16     Reede           VARGUS      0-499   \n",
       "4 2021-12-31        15     Reede           VARGUS      0-499   \n",
       "\n",
       "                   KohtLiik MaakondNimetus ValdLinnNimetus  \\\n",
       "0       AVALIK_KOHT,KAUPLUS  Harju maakond         Tallinn   \n",
       "1       AVALIK_KOHT,KAUPLUS  Harju maakond         Tallinn   \n",
       "2       AVALIK_KOHT,KAUPLUS  Harju maakond         Tallinn   \n",
       "3  AVALIK_KOHT,TANAV_VALJAK  Harju maakond         Tallinn   \n",
       "4       AVALIK_KOHT,KAUPLUS  Harju maakond         Tallinn   \n",
       "\n",
       "          KohtNimetus           Lest_X         Lest_Y SyyteoLiik  Aasta  Kuu  \\\n",
       "0   Mustamäe linnaosa  6586000-6586499  538500-538999         VT   2021   12   \n",
       "1      Nõmme linnaosa  6583500-6583999  540500-540999         KT   2021   12   \n",
       "2      Nõmme linnaosa  6583500-6583999  540500-540999         KT   2021   12   \n",
       "3  Kesklinna linnaosa  6588500-6588999  542500-542999         KT   2021   12   \n",
       "4   Lasnamäe linnaosa  6589500-6589999  548500-548999         KT   2021   12   \n",
       "\n",
       "   Kuupaev  \n",
       "0       31  \n",
       "1       31  \n",
       "2       31  \n",
       "3       31  \n",
       "4       31  "
      ]
     },
     "execution_count": 4,
     "metadata": {},
     "output_type": "execute_result"
    }
   ],
   "source": [
    "# ToimKpv to separate year, month and date\n",
    "data[\"ToimKpv\"] = pd.to_datetime(data[\"ToimKpv\"])\n",
    "data['Aasta'] = pd.to_datetime(data[\"ToimKpv\"]).dt.year\n",
    "data['Kuu'] = pd.to_datetime(data[\"ToimKpv\"]).dt.month\n",
    "data['Kuupaev'] = pd.to_datetime(data[\"ToimKpv\"]).dt.day\n",
    "data.head()"
   ]
  },
  {
   "cell_type": "code",
   "execution_count": 5,
   "id": "83829769",
   "metadata": {},
   "outputs": [],
   "source": [
    "# KohtLiik remove \"AVALIK_KOHT\"  (except when it's the only value)\n",
    "data['KohtLiik'] = data['KohtLiik'].str.replace('AVALIK_KOHT,', '')\n",
    "data['KohtLiik'] = data['KohtLiik'].str.replace('AVALIK_KOHT', '')\n",
    "data['KohtLiik'] = data['KohtLiik'].replace('',np.nan,regex = True) # https://sparkbyexamples.com/pandas/pandas-replace-blank-values-with-nan/\n",
    "data['KohtLiik'] = data['KohtLiik'].fillna(\"AVALIK_KOHT\")\n",
    "#data['KohtLiik'].unique()"
   ]
  },
  {
   "cell_type": "code",
   "execution_count": 6,
   "id": "ec4a9569",
   "metadata": {},
   "outputs": [
    {
     "name": "stderr",
     "output_type": "stream",
     "text": [
      "/var/folders/dy/p_hwdm556d3d4y6m5yh6xcjh0000gn/T/ipykernel_1784/2025698717.py:28: SettingWithCopyWarning: \n",
      "A value is trying to be set on a copy of a slice from a DataFrame\n",
      "\n",
      "See the caveats in the documentation: https://pandas.pydata.org/pandas-docs/stable/user_guide/indexing.html#returning-a-view-versus-a-copy\n",
      "  data['KohtLiik'][i] = sona\n"
     ]
    }
   ],
   "source": [
    "# data kohtliik – kõigile jätta alles levinuim\n",
    "mingid = data['KohtLiik'].tolist()\n",
    "mingid2 = \",\".join(mingid).split(',')\n",
    "from collections import Counter\n",
    "c = Counter(mingid2)\n",
    "M = pd.DataFrame(c.items())\n",
    "K = M.loc[M[0]!='']\n",
    "#print(K.loc[K[0]==''])\n",
    "for i in range(len(data)):\n",
    "    sone = data['KohtLiik'][i] \n",
    "    sone2 = sone.split(',')\n",
    "    if '' in sone2:\n",
    "        sone2.remove('')\n",
    "    #print(sone2)\n",
    "    if (len(sone2)>1):\n",
    "        L = []\n",
    "        for j in range(len(sone2)):\n",
    "            mitu = K.loc[K[0]==sone2[j]].values.flatten().tolist()[1]\n",
    "            #print(mitu)\n",
    "            L.append(mitu)\n",
    "        #print(L)\n",
    "        maks = max(L)\n",
    "        indeks = L.index(maks)\n",
    "        sona = sone2[indeks]\n",
    "        #print(sone2[indeks])\n",
    "        data['KohtLiik'][i] = sona\n",
    "        \n",
    "#print(data['KohtLiik'].unique())"
   ]
  },
  {
   "cell_type": "code",
   "execution_count": 7,
   "id": "551f0bad",
   "metadata": {},
   "outputs": [
    {
     "name": "stdout",
     "output_type": "stream",
     "text": [
      "                                  0      1\n",
      "0                        PISIVARGUS  23378\n",
      "1                            VARGUS  38475\n",
      "2                         VANDALISM   5799\n",
      "3                            KELMUS    382\n",
      "4                               MUU   3022\n",
      "5           AVALIKU_KORRA_RIKKUMINE   8502\n",
      "6           KEHALINE_VAARKOHTLEMINE   2454\n",
      "7                         ROOVIMINE    808\n",
      "8             POMMIAHVARDUS_KAHTLUS     82\n",
      "9                  KONFLIKT/OMAVOLI    231\n",
      "10                        TULEKAHJU    125\n",
      "11                 LIIKLUSRIKKUMINE    109\n",
      "12             MOOTORSOIDUKI_VARGUS    401\n",
      "13               JUHTUM_TULIRELVAGA     69\n",
      "14             KADUNUD_ESE/DOKUMENT    103\n",
      "15                    KOOLIVAGIVALD    133\n",
      "16         JALGRATTA_MOPEEDI_VARGUS   2034\n",
      "17                 JU_LIIK_COVID_19      3\n",
      "18          JU_LIIK_LIIKUMISPIIRANG     23\n",
      "19                    METALLIVARGUS     85\n",
      "20                      NARKOJUHTUM     75\n",
      "21                        VALIMISED      4\n",
      "22                   JUHTUM_LOOMAGA     21\n",
      "23                   LIIKLUSONNETUS     20\n",
      "24    MITTESULARAHALINE_MAKSEVAHEND      1\n",
      "25          LEITUD_LOHKEKEHA(-AINE)      1\n",
      "26                        PLAHVATUS      7\n",
      "27                       STREETRACE      1\n",
      "28          AVALIKU_KOOSOLEKU_TEADE      9\n",
      "29          VARASTATU_MUUK/HOIDMINE     15\n",
      "30  INTELLEKTUAALSE_OMANDI_OIG_RIKK      1\n",
      "31      KAUPLEMISE_NOUETE_RIKKUMINE      2\n",
      "32            ILLEGAALNE_KAUBA_MUUK      1\n",
      "33                      METSAVARGUS      2\n",
      "34                      LEITUD_LAIP      1\n"
     ]
    },
    {
     "name": "stderr",
     "output_type": "stream",
     "text": [
      "/var/folders/dy/p_hwdm556d3d4y6m5yh6xcjh0000gn/T/ipykernel_1784/436238037.py:29: SettingWithCopyWarning: \n",
      "A value is trying to be set on a copy of a slice from a DataFrame\n",
      "\n",
      "See the caveats in the documentation: https://pandas.pydata.org/pandas-docs/stable/user_guide/indexing.html#returning-a-view-versus-a-copy\n",
      "  data['KohtLiik'][i] = sona\n"
     ]
    }
   ],
   "source": [
    "# data syndmusliik – kõigile jätta alles levinuim\n",
    "mingid = data['SyndmusLiik'].tolist()\n",
    "mingid2 = \",\".join(mingid).split(',')\n",
    "c = Counter(mingid2)\n",
    "M = pd.DataFrame(c.items())\n",
    "#print(M)\n",
    "K = M.loc[M[0]!='']\n",
    "for i in range(len(data)):\n",
    "    sone = data['SyndmusLiik'][i] \n",
    "    sone2 = sone.split(',')\n",
    "    if '' in sone2:\n",
    "        sone2.remove('')\n",
    "    if (len(sone2)>1):\n",
    "        L = []\n",
    "        for j in range(len(sone2)):\n",
    "            mitu = K.loc[K[0]==sone2[j]].values.flatten().tolist()[1]\n",
    "            L.append(mitu)\n",
    "        maks = max(L)\n",
    "        indeks = L.index(maks)\n",
    "        sona = sone2[indeks]\n",
    "        data['KohtLiik'][i] = sona"
   ]
  },
  {
   "cell_type": "code",
   "execution_count": 8,
   "id": "67518611",
   "metadata": {},
   "outputs": [],
   "source": [
    "# ma tahan teada kas üldse töötab seega mingi mudel\n",
    "datam1 = data.drop([\"ToimKpv\",\"Kahjusumma\", \"KohtLiik\", \"KohtNimetus\",\"Lest_X\", \"Lest_Y\" ], axis = 1)\n",
    "datam1.SyyteoLiik = data.SyyteoLiik.map(dict(KT=1, VT=0))\n",
    "data_dum = pd.get_dummies(datam1, columns =  ['ToimNadalapaev', 'SyndmusLiik', 'MaakondNimetus', 'ValdLinnNimetus'])\n",
    "labels = data_dum.SyyteoLiik\n",
    "features = data_dum.drop('SyyteoLiik', axis=1)\n",
    "X_train, X_test, y_train, y_test = train_test_split(features, labels, train_size = 0.75, random_state=1)"
   ]
  },
  {
   "cell_type": "code",
   "execution_count": 9,
   "id": "8b41b162",
   "metadata": {},
   "outputs": [],
   "source": [
    "def MSE(y_target, y_pred):\n",
    "    return 1/len(y_target)* sum((y_target-y_pred)**2)"
   ]
  },
  {
   "cell_type": "code",
   "execution_count": 10,
   "id": "e405166d",
   "metadata": {},
   "outputs": [
    {
     "name": "stdout",
     "output_type": "stream",
     "text": [
      "          model  accuracy       MSE\n",
      "0  RandomForest  0.911572  0.088428\n"
     ]
    },
    {
     "name": "stderr",
     "output_type": "stream",
     "text": [
      "/var/folders/dy/p_hwdm556d3d4y6m5yh6xcjh0000gn/T/ipykernel_1784/4262695414.py:18: FutureWarning: The frame.append method is deprecated and will be removed from pandas in a future version. Use pandas.concat instead.\n",
      "  results_df = results_df.append({'model': 'RandomForest', 'accuracy': acc, 'MSE':mse}, ignore_index=True)\n"
     ]
    }
   ],
   "source": [
    "from sklearn.linear_model import LinearRegression # pole vaja\n",
    "from sklearn.linear_model import Ridge # pole vaja\n",
    "from sklearn.linear_model import Lasso # pole vaja\n",
    "from sklearn.metrics import accuracy_score\n",
    "from sklearn.tree import DecisionTreeClassifier\n",
    "from sklearn.neighbors import KNeighborsClassifier\n",
    "from sklearn.ensemble import RandomForestClassifier\n",
    "from sklearn.metrics import confusion_matrix\n",
    "\n",
    "rf = RandomForestClassifier(n_estimators=200,criterion='gini', random_state=0).fit(X_train, y_train)\n",
    "#model = KNeighborsClassifier(n_neighbors = 2, metric= \"manhattan\").fit(X_train, y_train)\n",
    "#dt = DecisionTreeClassifier(criterion='entropy', random_state=0).fit(X_train, y_train)\n",
    "\n",
    "results_df = pd.DataFrame()\n",
    "rf.fit(X_train, y_train)\n",
    "acc = accuracy_score(y_test, rf.predict(X_test))\n",
    "mse = MSE(y_test, rf.predict(X_test))\n",
    "results_df = results_df.append({'model': 'RandomForest', 'accuracy': acc, 'MSE':mse}, ignore_index=True)\n",
    "print(results_df)\n"
   ]
  },
  {
   "cell_type": "code",
   "execution_count": 11,
   "id": "59502347",
   "metadata": {},
   "outputs": [
    {
     "name": "stdout",
     "output_type": "stream",
     "text": [
      "                     model  accuracy       MSE\n",
      "0             RandomForest  0.911572  0.088428\n",
      "1  RandomForestDateandTime  0.543483  0.456517\n"
     ]
    },
    {
     "name": "stderr",
     "output_type": "stream",
     "text": [
      "/var/folders/dy/p_hwdm556d3d4y6m5yh6xcjh0000gn/T/ipykernel_1784/2659831588.py:17: FutureWarning: The frame.append method is deprecated and will be removed from pandas in a future version. Use pandas.concat instead.\n",
      "  results_df = results_df.append({'model': 'RandomForestDateandTime', 'accuracy': acc, 'MSE':mse}, ignore_index=True)\n"
     ]
    }
   ],
   "source": [
    "# Only with date and time\n",
    "#def MSE(y_target, y_pred):\n",
    "#    return 1/len(y_target)* sum((y_target-y_pred)**2)\n",
    " \n",
    "datam2 = data.drop([\"ToimKpv\",\"Kahjusumma\", \"KohtLiik\", \"KohtNimetus\",\"Lest_X\", \"Lest_Y\",'SyndmusLiik','MaakondNimetus', 'ValdLinnNimetus' ], axis = 1)\n",
    "datam2.SyyteoLiik = data.SyyteoLiik.map(dict(KT=1, VT=0))\n",
    "data_dum2 = pd.get_dummies(datam2, columns =  ['ToimNadalapaev'])\n",
    "# data_dum.head()\n",
    "labels = data_dum2.SyyteoLiik\n",
    "features = data_dum2.drop('SyyteoLiik', axis=1)\n",
    "X_train, X_test, y_train, y_test = train_test_split(features, labels, train_size = 0.75, random_state=1)\n",
    "\n",
    "rf2 = RandomForestClassifier(n_estimators=200,criterion='gini', random_state=0).fit(X_train, y_train)\n",
    "rf2.fit(X_train, y_train)\n",
    "acc = accuracy_score(y_test, rf2.predict(X_test))\n",
    "mse = MSE(y_test, rf2.predict(X_test))\n",
    "results_df = results_df.append({'model': 'RandomForestDateandTime', 'accuracy': acc, 'MSE':mse}, ignore_index=True)\n",
    "print(results_df)\n",
    "\n"
   ]
  },
  {
   "cell_type": "code",
   "execution_count": 12,
   "id": "9209e53f",
   "metadata": {},
   "outputs": [
    {
     "name": "stdout",
     "output_type": "stream",
     "text": [
      "                     model  accuracy       MSE\n",
      "0             RandomForest  0.911572  0.088428\n",
      "1  RandomForestDateandTime  0.543483  0.456517\n",
      "2     RandomForestLocation  0.687550  0.312450\n"
     ]
    },
    {
     "name": "stderr",
     "output_type": "stream",
     "text": [
      "/var/folders/dy/p_hwdm556d3d4y6m5yh6xcjh0000gn/T/ipykernel_1784/1620525848.py:14: FutureWarning: The frame.append method is deprecated and will be removed from pandas in a future version. Use pandas.concat instead.\n",
      "  results_df = results_df.append({'model': 'RandomForestLocation', 'accuracy': acc, 'MSE':mse}, ignore_index=True)\n"
     ]
    }
   ],
   "source": [
    "# Model only with location\n",
    "datam3 = data.drop([\"ToimKpv\",\"Kahjusumma\",\"Lest_X\", \"Lest_Y\",'SyndmusLiik','ToimNadalapaev'], axis = 1)\n",
    "datam3.SyyteoLiik = data.SyyteoLiik.map(dict(KT=1, VT=0))\n",
    "data_dum3 = pd.get_dummies(datam3, columns =  [\"KohtLiik\", \"KohtNimetus\", 'ValdLinnNimetus',  'MaakondNimetus'])\n",
    "# data_dum.head()\n",
    "labels = data_dum3.SyyteoLiik\n",
    "features = data_dum3.drop('SyyteoLiik', axis=1)\n",
    "X_train, X_test, y_train, y_test = train_test_split(features, labels, train_size = 0.75, random_state=1)\n",
    "\n",
    "rf3 = RandomForestClassifier(n_estimators=200,criterion='gini', random_state=0).fit(X_train, y_train)\n",
    "rf3.fit(X_train, y_train)\n",
    "acc = accuracy_score(y_test, rf3.predict(X_test))\n",
    "mse = MSE(y_test, rf3.predict(X_test))\n",
    "results_df = results_df.append({'model': 'RandomForestLocation', 'accuracy': acc, 'MSE':mse}, ignore_index=True)\n",
    "print(results_df)"
   ]
  },
  {
   "cell_type": "code",
   "execution_count": 13,
   "id": "e5e0b8ae",
   "metadata": {},
   "outputs": [
    {
     "name": "stdout",
     "output_type": "stream",
     "text": [
      "                     model  accuracy       MSE\n",
      "0             RandomForest  0.911572  0.088428\n",
      "1  RandomForestDateandTime  0.543483  0.456517\n",
      "2     RandomForestLocation  0.687550  0.312450\n",
      "3    RandomForestWKohtLiik  0.919038  0.080962\n"
     ]
    },
    {
     "name": "stderr",
     "output_type": "stream",
     "text": [
      "/var/folders/dy/p_hwdm556d3d4y6m5yh6xcjh0000gn/T/ipykernel_1784/966612482.py:13: FutureWarning: The frame.append method is deprecated and will be removed from pandas in a future version. Use pandas.concat instead.\n",
      "  results_df = results_df.append({'model': 'RandomForestWKohtLiik', 'accuracy': acc, 'MSE':mse}, ignore_index=True)\n"
     ]
    }
   ],
   "source": [
    "datam2 = data.drop([\"ToimKpv\",\"Kahjusumma\", \"KohtNimetus\",\"Lest_X\", \"Lest_Y\" ], axis = 1)\n",
    "datam2.SyyteoLiik = data.SyyteoLiik.map(dict(KT=1, VT=0))\n",
    "data_dum2 = pd.get_dummies(datam2, columns =  ['ToimNadalapaev', 'SyndmusLiik', 'MaakondNimetus', 'ValdLinnNimetus', \"KohtLiik\"])\n",
    "# data_dum.head()\n",
    "labels = data_dum2.SyyteoLiik\n",
    "features = data_dum2.drop('SyyteoLiik', axis=1)\n",
    "X_train, X_test, y_train, y_test = train_test_split(features, labels, train_size = 0.75, random_state=1)\n",
    "\n",
    "rf2 = RandomForestClassifier(n_estimators=200,criterion='gini', random_state=0).fit(X_train, y_train)\n",
    "rf2.fit(X_train, y_train)\n",
    "acc = accuracy_score(y_test, rf2.predict(X_test))\n",
    "mse = MSE(y_test, rf2.predict(X_test))\n",
    "results_df = results_df.append({'model': 'RandomForestWKohtLiik', 'accuracy': acc, 'MSE':mse}, ignore_index=True)\n",
    "print(results_df)"
   ]
  },
  {
   "cell_type": "code",
   "execution_count": 14,
   "id": "8d47fb3c",
   "metadata": {},
   "outputs": [
    {
     "name": "stdout",
     "output_type": "stream",
     "text": [
      "                     model  accuracy       MSE\n",
      "0             RandomForest  0.911572  0.088428\n",
      "1  RandomForestDateandTime  0.543483  0.456517\n",
      "2     RandomForestLocation  0.687550  0.312450\n",
      "3    RandomForestWKohtLiik  0.919038  0.080962\n",
      "4  RandomForestWKahjuSumma  0.921661  0.078339\n"
     ]
    },
    {
     "name": "stderr",
     "output_type": "stream",
     "text": [
      "/var/folders/dy/p_hwdm556d3d4y6m5yh6xcjh0000gn/T/ipykernel_1784/1455022076.py:13: FutureWarning: The frame.append method is deprecated and will be removed from pandas in a future version. Use pandas.concat instead.\n",
      "  results_df = results_df.append({'model': 'RandomForestWKahjuSumma', 'accuracy': acc, 'MSE':mse}, ignore_index=True)\n"
     ]
    }
   ],
   "source": [
    "datam2 = data.drop([\"ToimKpv\", \"KohtNimetus\",\"Lest_X\", \"Lest_Y\" ], axis = 1)\n",
    "datam2.SyyteoLiik = data.SyyteoLiik.map(dict(KT=1, VT=0))\n",
    "data_dum2 = pd.get_dummies(datam2, columns =  ['ToimNadalapaev', 'SyndmusLiik', 'MaakondNimetus', 'ValdLinnNimetus', \"KohtLiik\",\"Kahjusumma\"])\n",
    "# data_dum.head()\n",
    "labels = data_dum2.SyyteoLiik\n",
    "features = data_dum2.drop('SyyteoLiik', axis=1)\n",
    "X_train, X_test, y_train, y_test = train_test_split(features, labels, train_size = 0.75, random_state=1)\n",
    "\n",
    "rf2 = RandomForestClassifier(n_estimators=200,criterion='gini', random_state=0).fit(X_train, y_train)\n",
    "rf2.fit(X_train, y_train)\n",
    "acc = accuracy_score(y_test, rf2.predict(X_test))\n",
    "mse = MSE(y_test, rf2.predict(X_test))\n",
    "results_df = results_df.append({'model': 'RandomForestWKahjuSumma', 'accuracy': acc, 'MSE':mse}, ignore_index=True)\n",
    "print(results_df)"
   ]
  },
  {
   "cell_type": "code",
   "execution_count": 16,
   "id": "926761b6",
   "metadata": {},
   "outputs": [
    {
     "name": "stdout",
     "output_type": "stream",
     "text": [
      "                       model  accuracy       MSE\n",
      "0               RandomForest  0.911572  0.088428\n",
      "1    RandomForestDateandTime  0.543483  0.456517\n",
      "2       RandomForestLocation  0.687550  0.312450\n",
      "3      RandomForestWKohtLiik  0.919038  0.080962\n",
      "4    RandomForestWKahjuSumma  0.921661  0.078339\n",
      "5  RandomForestWOSyndmusLiik  0.679580  0.320420\n"
     ]
    },
    {
     "name": "stderr",
     "output_type": "stream",
     "text": [
      "/var/folders/dy/p_hwdm556d3d4y6m5yh6xcjh0000gn/T/ipykernel_1784/644977638.py:13: FutureWarning: The frame.append method is deprecated and will be removed from pandas in a future version. Use pandas.concat instead.\n",
      "  results_df = results_df.append({'model': 'RandomForestWOSyndmusLiik', 'accuracy': acc, 'MSE':mse}, ignore_index=True)\n"
     ]
    }
   ],
   "source": [
    "datam2 = data.drop([\"ToimKpv\", \"KohtNimetus\",\"Lest_X\", \"Lest_Y\", 'SyndmusLiik' ], axis = 1)\n",
    "datam2.SyyteoLiik = data.SyyteoLiik.map(dict(KT=1, VT=0))\n",
    "data_dum2 = pd.get_dummies(datam2, columns =  ['ToimNadalapaev', 'MaakondNimetus', 'ValdLinnNimetus', \"KohtLiik\",\"Kahjusumma\"])\n",
    "# data_dum.head()\n",
    "labels = data_dum2.SyyteoLiik\n",
    "features = data_dum2.drop('SyyteoLiik', axis=1)\n",
    "X_train, X_test, y_train, y_test = train_test_split(features, labels, train_size = 0.75, random_state=1)\n",
    "\n",
    "rf2 = RandomForestClassifier(n_estimators=200,criterion='gini', random_state=0).fit(X_train, y_train)\n",
    "rf2.fit(X_train, y_train)\n",
    "acc = accuracy_score(y_test, rf2.predict(X_test))\n",
    "mse = MSE(y_test, rf2.predict(X_test))\n",
    "results_df = results_df.append({'model': 'RandomForestWOSyndmusLiik', 'accuracy': acc, 'MSE':mse}, ignore_index=True)\n",
    "print(results_df)"
   ]
  },
  {
   "cell_type": "code",
   "execution_count": 17,
   "id": "cc8439ea",
   "metadata": {},
   "outputs": [
    {
     "name": "stdout",
     "output_type": "stream",
     "text": [
      "                       model  accuracy       MSE\n",
      "0               RandomForest  0.911572  0.088428\n",
      "1    RandomForestDateandTime  0.543483  0.456517\n",
      "2       RandomForestLocation  0.687550  0.312450\n",
      "3      RandomForestWKohtLiik  0.919038  0.080962\n",
      "4    RandomForestWKahjuSumma  0.921661  0.078339\n",
      "5  RandomForestWOSyndmusLiik  0.679580  0.320420\n",
      "6               DecisionTree  0.886602  0.113398\n"
     ]
    },
    {
     "name": "stderr",
     "output_type": "stream",
     "text": [
      "/var/folders/dy/p_hwdm556d3d4y6m5yh6xcjh0000gn/T/ipykernel_1784/681783244.py:13: FutureWarning: The frame.append method is deprecated and will be removed from pandas in a future version. Use pandas.concat instead.\n",
      "  results_df = results_df.append({'model': 'DecisionTree', 'accuracy': acc, 'MSE':mse}, ignore_index=True)\n"
     ]
    }
   ],
   "source": [
    "datam2 = data.drop([\"ToimKpv\", \"KohtNimetus\",\"Lest_X\", \"Lest_Y\" ], axis = 1)\n",
    "datam2.SyyteoLiik = data.SyyteoLiik.map(dict(KT=1, VT=0))\n",
    "data_dum2 = pd.get_dummies(datam2, columns =  ['ToimNadalapaev', 'MaakondNimetus', 'ValdLinnNimetus', \"KohtLiik\",\"Kahjusumma\", 'SyndmusLiik'])\n",
    "# data_dum.head()\n",
    "labels = data_dum2.SyyteoLiik\n",
    "features = data_dum2.drop('SyyteoLiik', axis=1)\n",
    "X_train, X_test, y_train, y_test = train_test_split(features, labels, train_size = 0.75, random_state=1)\n",
    "\n",
    "rf2 = DecisionTreeClassifier().fit(X_train, y_train)\n",
    "rf2.fit(X_train, y_train)\n",
    "acc = accuracy_score(y_test, rf2.predict(X_test))\n",
    "mse = MSE(y_test, rf2.predict(X_test))\n",
    "results_df = results_df.append({'model': 'DecisionTree', 'accuracy': acc, 'MSE':mse}, ignore_index=True)\n",
    "print(results_df)"
   ]
  },
  {
   "cell_type": "code",
   "execution_count": 18,
   "id": "416b4fdf",
   "metadata": {},
   "outputs": [
    {
     "name": "stdout",
     "output_type": "stream",
     "text": [
      "                       model  accuracy       MSE\n",
      "0               RandomForest  0.911572  0.088428\n",
      "1    RandomForestDateandTime  0.543483  0.456517\n",
      "2       RandomForestLocation  0.687550  0.312450\n",
      "3      RandomForestWKohtLiik  0.919038  0.080962\n",
      "4    RandomForestWKahjuSumma  0.921661  0.078339\n",
      "5  RandomForestWOSyndmusLiik  0.679580  0.320420\n",
      "6               DecisionTree  0.886602  0.113398\n",
      "7        DecisionTreeEntropy  0.888115  0.111885\n"
     ]
    },
    {
     "name": "stderr",
     "output_type": "stream",
     "text": [
      "/var/folders/dy/p_hwdm556d3d4y6m5yh6xcjh0000gn/T/ipykernel_1784/1961612206.py:13: FutureWarning: The frame.append method is deprecated and will be removed from pandas in a future version. Use pandas.concat instead.\n",
      "  results_df = results_df.append({'model': 'DecisionTreeEntropy', 'accuracy': acc, 'MSE':mse}, ignore_index=True)\n"
     ]
    }
   ],
   "source": [
    "datam2 = data.drop([\"ToimKpv\", \"KohtNimetus\",\"Lest_X\", \"Lest_Y\" ], axis = 1)\n",
    "datam2.SyyteoLiik = data.SyyteoLiik.map(dict(KT=1, VT=0))\n",
    "data_dum2 = pd.get_dummies(datam2, columns =  ['ToimNadalapaev', 'MaakondNimetus', 'ValdLinnNimetus', \"KohtLiik\",\"Kahjusumma\", 'SyndmusLiik'])\n",
    "# data_dum.head()\n",
    "labels = data_dum2.SyyteoLiik\n",
    "features = data_dum2.drop('SyyteoLiik', axis=1)\n",
    "X_train, X_test, y_train, y_test = train_test_split(features, labels, train_size = 0.75, random_state=1)\n",
    "\n",
    "rf2 = DecisionTreeClassifier(criterion='entropy', splitter='best').fit(X_train, y_train)\n",
    "rf2.fit(X_train, y_train)\n",
    "acc = accuracy_score(y_test, rf2.predict(X_test))\n",
    "mse = MSE(y_test, rf2.predict(X_test))\n",
    "results_df = results_df.append({'model': 'DecisionTreeEntropy', 'accuracy': acc, 'MSE':mse}, ignore_index=True)\n",
    "print(results_df)"
   ]
  },
  {
   "cell_type": "code",
   "execution_count": 19,
   "id": "f118a3cd",
   "metadata": {},
   "outputs": [
    {
     "name": "stdout",
     "output_type": "stream",
     "text": [
      "                       model  accuracy       MSE\n",
      "0               RandomForest  0.911572  0.088428\n",
      "1    RandomForestDateandTime  0.543483  0.456517\n",
      "2       RandomForestLocation  0.687550  0.312450\n",
      "3      RandomForestWKohtLiik  0.919038  0.080962\n",
      "4    RandomForestWKahjuSumma  0.921661  0.078339\n",
      "5  RandomForestWOSyndmusLiik  0.679580  0.320420\n",
      "6               DecisionTree  0.886602  0.113398\n",
      "7        DecisionTreeEntropy  0.888115  0.111885\n",
      "8               DecisionTree  0.764730  0.235270\n"
     ]
    },
    {
     "name": "stderr",
     "output_type": "stream",
     "text": [
      "/var/folders/dy/p_hwdm556d3d4y6m5yh6xcjh0000gn/T/ipykernel_1784/955412842.py:13: FutureWarning: The frame.append method is deprecated and will be removed from pandas in a future version. Use pandas.concat instead.\n",
      "  results_df = results_df.append({'model': 'DecisionTree', 'accuracy': acc, 'MSE':mse}, ignore_index=True)\n"
     ]
    }
   ],
   "source": [
    "datam2 = data.drop([\"ToimKpv\", \"KohtNimetus\",\"Lest_X\", \"Lest_Y\" ], axis = 1)\n",
    "datam2.SyyteoLiik = data.SyyteoLiik.map(dict(KT=1, VT=0))\n",
    "data_dum2 = pd.get_dummies(datam2, columns =  ['ToimNadalapaev', 'MaakondNimetus', 'ValdLinnNimetus', \"KohtLiik\",\"Kahjusumma\", 'SyndmusLiik'])\n",
    "# data_dum.head()\n",
    "labels = data_dum2.SyyteoLiik\n",
    "features = data_dum2.drop('SyyteoLiik', axis=1)\n",
    "X_train, X_test, y_train, y_test = train_test_split(features, labels, train_size = 0.75, random_state=1)\n",
    "\n",
    "rf2 = KNeighborsClassifier(n_neighbors = 2, metric= \"manhattan\").fit(X_train, y_train)\n",
    "rf2.fit(X_train, y_train)\n",
    "acc = accuracy_score(y_test, rf2.predict(X_test))\n",
    "mse = MSE(y_test, rf2.predict(X_test))\n",
    "results_df = results_df.append({'model': 'KNNmanhattan', 'accuracy': acc, 'MSE':mse}, ignore_index=True)\n",
    "print(results_df)"
   ]
  },
  {
   "cell_type": "code",
   "execution_count": 21,
   "id": "5991d7bb",
   "metadata": {},
   "outputs": [
    {
     "name": "stdout",
     "output_type": "stream",
     "text": [
      "                        model  accuracy       MSE\n",
      "0                RandomForest  0.911572  0.088428\n",
      "1     RandomForestDateandTime  0.543483  0.456517\n",
      "2        RandomForestLocation  0.687550  0.312450\n",
      "3       RandomForestWKohtLiik  0.919038  0.080962\n",
      "4     RandomForestWKahjuSumma  0.921661  0.078339\n",
      "5   RandomForestWOSyndmusLiik  0.679580  0.320420\n",
      "6                DecisionTree  0.886602  0.113398\n",
      "7         DecisionTreeEntropy  0.888115  0.111885\n",
      "8                DecisionTree  0.764730  0.235270\n",
      "9                DecisionTree  0.764730  0.235270\n",
      "10                  RFEntropy  0.922215  0.077785\n"
     ]
    },
    {
     "name": "stderr",
     "output_type": "stream",
     "text": [
      "/var/folders/dy/p_hwdm556d3d4y6m5yh6xcjh0000gn/T/ipykernel_1784/183477120.py:13: FutureWarning: The frame.append method is deprecated and will be removed from pandas in a future version. Use pandas.concat instead.\n",
      "  results_df = results_df.append({'model': 'RFEntropy', 'accuracy': acc, 'MSE':mse}, ignore_index=True)\n"
     ]
    }
   ],
   "source": [
    "datam2 = data.drop([\"ToimKpv\", \"KohtNimetus\",\"Lest_X\", \"Lest_Y\" ], axis = 1)\n",
    "datam2.SyyteoLiik = data.SyyteoLiik.map(dict(KT=1, VT=0))\n",
    "data_dum2 = pd.get_dummies(datam2, columns =  ['ToimNadalapaev', 'MaakondNimetus', 'ValdLinnNimetus', \"KohtLiik\",\"Kahjusumma\", 'SyndmusLiik'])\n",
    "# data_dum.head()\n",
    "labels = data_dum2.SyyteoLiik\n",
    "features = data_dum2.drop('SyyteoLiik', axis=1)\n",
    "X_train, X_test, y_train, y_test = train_test_split(features, labels, train_size = 0.75, random_state=1)\n",
    "\n",
    "rf2 = RandomForestClassifier(n_estimators=400,criterion='entropy').fit(X_train, y_train)\n",
    "rf2.fit(X_train, y_train)\n",
    "acc = accuracy_score(y_test, rf2.predict(X_test))\n",
    "mse = MSE(y_test, rf2.predict(X_test))\n",
    "results_df = results_df.append({'model': 'RFEntropy', 'accuracy': acc, 'MSE':mse}, ignore_index=True)\n",
    "print(results_df)"
   ]
  },
  {
   "cell_type": "code",
   "execution_count": 22,
   "id": "777f0c83",
   "metadata": {},
   "outputs": [
    {
     "data": {
      "image/png": "[encoded data removed]",
      "text/plain": [
       "<Figure size 432x288 with 1 Axes>"
      ]
     },
     "metadata": {
      "needs_background": "light"
     },
     "output_type": "display_data"
    }
   ],
   "source": [
    "from sklearn import metrics\n",
    "\n",
    "y_pred_proba = rf2.predict_proba(X_test)[::,1]\n",
    "fpr, tpr, _ = metrics.roc_curve(y_test,  y_pred_proba)\n",
    "auc = metrics.roc_auc_score(y_test, y_pred_proba)\n",
    "\n",
    "#create ROC curve\n",
    "plt.plot(fpr,tpr,label=\"AUC=\"+str(auc))\n",
    "plt.ylabel('True Positive Rate')\n",
    "plt.xlabel('False Positive Rate')\n",
    "plt.legend(loc=4)\n",
    "plt.show()\n"
   ]
  },
  {
   "cell_type": "code",
   "execution_count": 23,
   "id": "b76c99c1",
   "metadata": {},
   "outputs": [
    {
     "data": {
      "text/plain": [
       "79294"
      ]
     },
     "execution_count": 23,
     "metadata": {},
     "output_type": "execute_result"
    }
   ],
   "source": [
    "len(data)"
   ]
  },
  {
   "cell_type": "code",
   "execution_count": 24,
   "id": "f5f4b304",
   "metadata": {},
   "outputs": [
    {
     "name": "stdout",
     "output_type": "stream",
     "text": [
      "                        model  accuracy       MSE\n",
      "0                RandomForest  0.911572  0.088428\n",
      "1     RandomForestDateandTime  0.543483  0.456517\n",
      "2        RandomForestLocation  0.687550  0.312450\n",
      "3       RandomForestWKohtLiik  0.919038  0.080962\n",
      "4     RandomForestWKahjuSumma  0.921661  0.078339\n",
      "5   RandomForestWOSyndmusLiik  0.679580  0.320420\n",
      "6                DecisionTree  0.886602  0.113398\n",
      "7         DecisionTreeEntropy  0.888115  0.111885\n",
      "8                DecisionTree  0.764730  0.235270\n",
      "9                DecisionTree  0.764730  0.235270\n",
      "10                  RFEntropy  0.922215  0.077785\n",
      "11       RFEntropymaxfeatures  0.922316  0.077684\n"
     ]
    },
    {
     "name": "stderr",
     "output_type": "stream",
     "text": [
      "/var/folders/dy/p_hwdm556d3d4y6m5yh6xcjh0000gn/T/ipykernel_1784/1681962582.py:13: FutureWarning: The frame.append method is deprecated and will be removed from pandas in a future version. Use pandas.concat instead.\n",
      "  results_df = results_df.append({'model': 'RFEntropymaxfeatures', 'accuracy': acc, 'MSE':mse}, ignore_index=True)\n"
     ]
    }
   ],
   "source": [
    "datam2 = data.drop([\"ToimKpv\", \"KohtNimetus\",\"Lest_X\", \"Lest_Y\" ], axis = 1)\n",
    "datam2.SyyteoLiik = data.SyyteoLiik.map(dict(KT=1, VT=0))\n",
    "data_dum2 = pd.get_dummies(datam2, columns =  ['ToimNadalapaev', 'MaakondNimetus', 'ValdLinnNimetus', \"KohtLiik\",\"Kahjusumma\", 'SyndmusLiik'])\n",
    "# data_dum.head()\n",
    "labels = data_dum2.SyyteoLiik\n",
    "features = data_dum2.drop('SyyteoLiik', axis=1)\n",
    "X_train, X_test, y_train, y_test = train_test_split(features, labels, train_size = 0.75, random_state=1)\n",
    "\n",
    "rf2 = RandomForestClassifier(n_estimators=400,criterion='entropy', max_features = 'sqrt').fit(X_train, y_train)\n",
    "rf2.fit(X_train, y_train)\n",
    "acc = accuracy_score(y_test, rf2.predict(X_test))\n",
    "mse = MSE(y_test, rf2.predict(X_test))\n",
    "results_df = results_df.append({'model': 'RFEntropymaxfeatures', 'accuracy': acc, 'MSE':mse}, ignore_index=True)\n",
    "print(results_df)"
   ]
  },
  {
   "cell_type": "code",
   "execution_count": 26,
   "id": "56a66a69",
   "metadata": {},
   "outputs": [
    {
     "name": "stdout",
     "output_type": "stream",
     "text": [
      "                        model  accuracy       MSE\n",
      "0                RandomForest  0.911572  0.088428\n",
      "1     RandomForestDateandTime  0.543483  0.456517\n",
      "2        RandomForestLocation  0.687550  0.312450\n",
      "3       RandomForestWKohtLiik  0.919038  0.080962\n",
      "4     RandomForestWKahjuSumma  0.921661  0.078339\n",
      "5   RandomForestWOSyndmusLiik  0.679580  0.320420\n",
      "6                DecisionTree  0.886602  0.113398\n",
      "7         DecisionTreeEntropy  0.888115  0.111885\n",
      "8                DecisionTree  0.764730  0.235270\n",
      "9                DecisionTree  0.764730  0.235270\n",
      "10                  RFEntropy  0.922215  0.077785\n",
      "11       RFEntropymaxfeatures  0.922316  0.077684\n",
      "12       RFloglossmaxfeatures  0.922468  0.077532\n"
     ]
    },
    {
     "name": "stderr",
     "output_type": "stream",
     "text": [
      "/var/folders/dy/p_hwdm556d3d4y6m5yh6xcjh0000gn/T/ipykernel_1784/203135510.py:13: FutureWarning: The frame.append method is deprecated and will be removed from pandas in a future version. Use pandas.concat instead.\n",
      "  results_df = results_df.append({'model': 'RFloglossmaxfeatures', 'accuracy': acc, 'MSE':mse}, ignore_index=True)\n"
     ]
    }
   ],
   "source": [
    "datam2 = data.drop([\"ToimKpv\", \"KohtNimetus\",\"Lest_X\", \"Lest_Y\" ], axis = 1)\n",
    "datam2.SyyteoLiik = data.SyyteoLiik.map(dict(KT=1, VT=0))\n",
    "data_dum2 = pd.get_dummies(datam2, columns =  ['ToimNadalapaev', 'MaakondNimetus', 'ValdLinnNimetus', \"KohtLiik\",\"Kahjusumma\", 'SyndmusLiik'])\n",
    "# data_dum.head()\n",
    "labels = data_dum2.SyyteoLiik\n",
    "features = data_dum2.drop('SyyteoLiik', axis=1)\n",
    "X_train, X_test, y_train, y_test = train_test_split(features, labels, train_size = 0.75, random_state=1)\n",
    "\n",
    "rf2 = RandomForestClassifier(n_estimators=400,criterion='log_loss', max_features = 'sqrt').fit(X_train, y_train)\n",
    "rf2.fit(X_train, y_train)\n",
    "acc = accuracy_score(y_test, rf2.predict(X_test))\n",
    "mse = MSE(y_test, rf2.predict(X_test))\n",
    "results_df = results_df.append({'model': 'RFloglossmaxfeatures', 'accuracy': acc, 'MSE':mse}, ignore_index=True)\n",
    "print(results_df)"
   ]
  },
  {
   "cell_type": "code",
   "execution_count": 27,
   "id": "18e27122",
   "metadata": {},
   "outputs": [
    {
     "name": "stdout",
     "output_type": "stream",
     "text": [
      "                        model  accuracy       MSE\n",
      "0                RandomForest  0.911572  0.088428\n",
      "1     RandomForestDateandTime  0.543483  0.456517\n",
      "2        RandomForestLocation  0.687550  0.312450\n",
      "3       RandomForestWKohtLiik  0.919038  0.080962\n",
      "4     RandomForestWKahjuSumma  0.921661  0.078339\n",
      "5   RandomForestWOSyndmusLiik  0.679580  0.320420\n",
      "6                DecisionTree  0.886602  0.113398\n",
      "7         DecisionTreeEntropy  0.888115  0.111885\n",
      "8                DecisionTree  0.764730  0.235270\n",
      "9                DecisionTree  0.764730  0.235270\n",
      "10                  RFEntropy  0.922215  0.077785\n",
      "11       RFEntropymaxfeatures  0.922316  0.077684\n",
      "12       RFloglossmaxfeatures  0.922468  0.077532\n",
      "13    RFloglossmaxfeaturelog2  0.922014  0.077986\n"
     ]
    },
    {
     "name": "stderr",
     "output_type": "stream",
     "text": [
      "/var/folders/dy/p_hwdm556d3d4y6m5yh6xcjh0000gn/T/ipykernel_1784/4079558271.py:13: FutureWarning: The frame.append method is deprecated and will be removed from pandas in a future version. Use pandas.concat instead.\n",
      "  results_df = results_df.append({'model': 'RFloglossmaxfeaturelog2', 'accuracy': acc, 'MSE':mse}, ignore_index=True)\n"
     ]
    }
   ],
   "source": [
    "datam2 = data.drop([\"ToimKpv\", \"KohtNimetus\",\"Lest_X\", \"Lest_Y\" ], axis = 1)\n",
    "datam2.SyyteoLiik = data.SyyteoLiik.map(dict(KT=1, VT=0))\n",
    "data_dum2 = pd.get_dummies(datam2, columns =  ['ToimNadalapaev', 'MaakondNimetus', 'ValdLinnNimetus', \"KohtLiik\",\"Kahjusumma\", 'SyndmusLiik'])\n",
    "# data_dum.head()\n",
    "labels = data_dum2.SyyteoLiik\n",
    "features = data_dum2.drop('SyyteoLiik', axis=1)\n",
    "X_train, X_test, y_train, y_test = train_test_split(features, labels, train_size = 0.75, random_state=1)\n",
    "\n",
    "rf2 = RandomForestClassifier(n_estimators=400,criterion='log_loss', max_features = 'log2').fit(X_train, y_train)\n",
    "rf2.fit(X_train, y_train)\n",
    "acc = accuracy_score(y_test, rf2.predict(X_test))\n",
    "mse = MSE(y_test, rf2.predict(X_test))\n",
    "results_df = results_df.append({'model': 'RFloglossmaxfeaturelog2', 'accuracy': acc, 'MSE':mse}, ignore_index=True)\n",
    "print(results_df)"
   ]
  },
  {
   "cell_type": "code",
   "execution_count": 31,
   "id": "80ad1549",
   "metadata": {},
   "outputs": [],
   "source": [
    "# Amazingly slow and bad, do not recommend\n",
    "# from sklearn.svm import SVC\n",
    "# datam2 = data.drop([\"ToimKpv\", \"KohtNimetus\",\"Lest_X\", \"Lest_Y\" ], axis = 1)\n",
    "# datam2.SyyteoLiik = data.SyyteoLiik.map(dict(KT=1, VT=0))\n",
    "# data_dum2 = pd.get_dummies(datam2, columns =  ['ToimNadalapaev', 'MaakondNimetus', 'ValdLinnNimetus', \"KohtLiik\",\"Kahjusumma\", 'SyndmusLiik'])\n",
    "# # data_dum.head()\n",
    "# labels = data_dum2.SyyteoLiik\n",
    "# features = data_dum2.drop('SyyteoLiik', axis=1)\n",
    "# X_train, X_test, y_train, y_test = train_test_split(features, labels, train_size = 0.75, random_state=1)\n",
    "\n",
    "# rf2 = SVC().fit(X_train, y_train)\n",
    "# rf2.fit(X_train, y_train)\n",
    "# acc = accuracy_score(y_test, rf2.predict(X_test))\n",
    "# mse = MSE(y_test, rf2.predict(X_test))\n",
    "# results_df = results_df.append({'model': 'SVC', 'accuracy': acc, 'MSE':mse}, ignore_index=True)\n",
    "# print(results_df)"
   ]
  },
  {
   "cell_type": "code",
   "execution_count": 32,
   "id": "6e2a7b20",
   "metadata": {},
   "outputs": [
    {
     "name": "stdout",
     "output_type": "stream",
     "text": [
      "                        model  accuracy       MSE\n",
      "0                RandomForest  0.911572  0.088428\n",
      "1     RandomForestDateandTime  0.543483  0.456517\n",
      "2        RandomForestLocation  0.687550  0.312450\n",
      "3       RandomForestWKohtLiik  0.919038  0.080962\n",
      "4     RandomForestWKahjuSumma  0.921661  0.078339\n",
      "5   RandomForestWOSyndmusLiik  0.679580  0.320420\n",
      "6                DecisionTree  0.886602  0.113398\n",
      "7         DecisionTreeEntropy  0.888115  0.111885\n",
      "8                DecisionTree  0.764730  0.235270\n",
      "9                DecisionTree  0.764730  0.235270\n",
      "10                  RFEntropy  0.922215  0.077785\n",
      "11       RFEntropymaxfeatures  0.922316  0.077684\n",
      "12       RFloglossmaxfeatures  0.922468  0.077532\n",
      "13    RFloglossmaxfeaturelog2  0.922014  0.077986\n",
      "14         logisticregression  0.878834  0.121166\n",
      "15                        SVC  0.522195  0.477805\n",
      "16       RFloglossmaxfeatures  0.922417  0.077583\n"
     ]
    },
    {
     "name": "stderr",
     "output_type": "stream",
     "text": [
      "/var/folders/dy/p_hwdm556d3d4y6m5yh6xcjh0000gn/T/ipykernel_1784/896448935.py:13: FutureWarning: The frame.append method is deprecated and will be removed from pandas in a future version. Use pandas.concat instead.\n",
      "  results_df = results_df.append({'model': 'RFloglossmaxfeatures', 'accuracy': acc, 'MSE':mse}, ignore_index=True)\n"
     ]
    }
   ],
   "source": [
    "datam2 = data.drop([\"ToimKpv\", \"KohtNimetus\",\"Lest_X\", \"Lest_Y\" ], axis = 1)\n",
    "datam2.SyyteoLiik = data.SyyteoLiik.map(dict(KT=1, VT=0))\n",
    "data_dum2 = pd.get_dummies(datam2, columns =  ['ToimNadalapaev', 'MaakondNimetus', 'ValdLinnNimetus', \"KohtLiik\",\"Kahjusumma\", 'SyndmusLiik'])\n",
    "# data_dum.head()\n",
    "labels = data_dum2.SyyteoLiik\n",
    "features = data_dum2.drop('SyyteoLiik', axis=1)\n",
    "X_train, X_test, y_train, y_test = train_test_split(features, labels, train_size = 0.75, random_state=1)\n",
    "\n",
    "rf2 = RandomForestClassifier(n_estimators=300,criterion='log_loss', max_features = 'sqrt').fit(X_train, y_train)\n",
    "rf2.fit(X_train, y_train)\n",
    "acc = accuracy_score(y_test, rf2.predict(X_test))\n",
    "mse = MSE(y_test, rf2.predict(X_test))\n",
    "results_df = results_df.append({'model': 'RFloglossmaxfeatures', 'accuracy': acc, 'MSE':mse}, ignore_index=True)\n",
    "print(results_df)"
   ]
  },
  {
   "cell_type": "code",
   "execution_count": 35,
   "id": "e3d66e22",
   "metadata": {},
   "outputs": [
    {
     "data": {
      "image/png": "[encoded data removed]",
      "text/plain": [
       "<Figure size 864x576 with 1 Axes>"
      ]
     },
     "metadata": {
      "needs_background": "light"
     },
     "output_type": "display_data"
    }
   ],
   "source": [
    "fig = plt.figure(figsize=[12, 8])\n",
    "plt.hist(data[\"ToimKell\"])\n",
    "plt.xticks(rotation=\"vertical\")\n",
    "plt.show()"
   ]
  },
  {
   "cell_type": "code",
   "execution_count": 43,
   "id": "dd2d99c9",
   "metadata": {},
   "outputs": [
    {
     "data": {
      "text/plain": [
       "ToimKell\n",
       "0     3594\n",
       "1     1781\n",
       "2     1638\n",
       "3     1419\n",
       "4     1112\n",
       "5      810\n",
       "6      620\n",
       "7      807\n",
       "8     1740\n",
       "9     2241\n",
       "10    3295\n",
       "11    3868\n",
       "12    4651\n",
       "13    4678\n",
       "14    5045\n",
       "15    5302\n",
       "16    5329\n",
       "17    5721\n",
       "18    5672\n",
       "19    5402\n",
       "20    4948\n",
       "21    4281\n",
       "22    2901\n",
       "23    2439\n",
       "dtype: int64"
      ]
     },
     "execution_count": 43,
     "metadata": {},
     "output_type": "execute_result"
    }
   ],
   "source": [
    "data.groupby(['ToimKell']).size()"
   ]
  },
  {
   "cell_type": "code",
   "execution_count": null,
   "id": "d1dbce12",
   "metadata": {},
   "outputs": [],
   "source": [
    "data = pd.read_csv(\"clean_data.csv\")"
   ]
  }
 ],
 "metadata": {
  "kernelspec": {
   "display_name": "Python 3 (ipykernel)",
   "language": "python",
   "name": "python3"
  },
  "language_info": {
   "codemirror_mode": {
    "name": "ipython",
    "version": 3
   },
   "file_extension": ".py",
   "mimetype": "text/x-python",
   "name": "python",
   "nbconvert_exporter": "python",
   "pygments_lexer": "ipython3",
   "version": "3.9.12"
  }
 },
 "nbformat": 4,
 "nbformat_minor": 5
}
