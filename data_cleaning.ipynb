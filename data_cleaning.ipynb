{
 "cells": [
  {
   "cell_type": "code",
   "execution_count": 2,
   "metadata": {
    "collapsed": true
   },
   "outputs": [],
   "source": [
    "import pandas as pd\n",
    "import numpy as np"
   ]
  },
  {
   "cell_type": "code",
   "execution_count": 17,
   "outputs": [
    {
     "data": {
      "text/plain": "          ToimKpv ToimKell  ToimNadalapaev_Esmaspäev  \\\n0      2021-12-31    23:58                         0   \n1      2021-12-31    18:41                         0   \n2      2021-12-31    18:41                         0   \n3      2021-12-31    16:00                         0   \n4      2021-12-31    15:44                         0   \n...           ...      ...                       ...   \n62209  2012-01-01    00:15                         0   \n62210  2012-01-01    00:00                         0   \n62211  2012-01-01    00:00                         0   \n62212  2012-01-01      NaN                         0   \n62213  2012-01-01      NaN                         0   \n\n       ToimNadalapaev_Kolmapäev  ToimNadalapaev_Laupäev    \\\n0                             0                         0   \n1                             0                         0   \n2                             0                         0   \n3                             0                         0   \n4                             0                         0   \n...                         ...                       ...   \n62209                         0                         0   \n62210                         0                         0   \n62211                         0                         0   \n62212                         0                         0   \n62213                         0                         0   \n\n       ToimNadalapaev_Neljapäev  ToimNadalapaev_Pühapäev  \\\n0                             0                        0   \n1                             0                        0   \n2                             0                        0   \n3                             0                        0   \n4                             0                        0   \n...                         ...                      ...   \n62209                         0                        1   \n62210                         0                        1   \n62211                         0                        1   \n62212                         0                        1   \n62213                         0                        1   \n\n       ToimNadalapaev_Reede       ToimNadalapaev_Teisipäev  \\\n0                              1                         0   \n1                              1                         0   \n2                              1                         0   \n3                              1                         0   \n4                              1                         0   \n...                          ...                       ...   \n62209                          0                         0   \n62210                          0                         0   \n62211                          0                         0   \n62212                          0                         0   \n62213                          0                         0   \n\n       KohtNimetus_Aa küla  ...  KohtNimetus_Õisu alevik  \\\n0                        0  ...                        0   \n1                        0  ...                        0   \n2                        0  ...                        0   \n3                        0  ...                        0   \n4                        0  ...                        0   \n...                    ...  ...                      ...   \n62209                    0  ...                        0   \n62210                    0  ...                        0   \n62211                    0  ...                        0   \n62212                    0  ...                        0   \n62213                    0  ...                        0   \n\n       KohtNimetus_Õru alevik  KohtNimetus_Õssu küla  KohtNimetus_Õuna küla  \\\n0                           0                      0                      0   \n1                           0                      0                      0   \n2                           0                      0                      0   \n3                           0                      0                      0   \n4                           0                      0                      0   \n...                       ...                    ...                    ...   \n62209                       0                      0                      0   \n62210                       0                      0                      0   \n62211                       0                      0                      0   \n62212                       0                      0                      0   \n62213                       0                      0                      0   \n\n       KohtNimetus_Üksnurme küla  KohtNimetus_Ülejõe küla  \\\n0                              0                        0   \n1                              0                        0   \n2                              0                        0   \n3                              0                        0   \n4                              0                        0   \n...                          ...                      ...   \n62209                          0                        0   \n62210                          0                        0   \n62211                          0                        0   \n62212                          0                        0   \n62213                          0                        0   \n\n       KohtNimetus_Ülenurme alevik  KohtNimetus_Ülgase küla  SyyteoLiik_KT  \\\n0                                0                        0              0   \n1                                0                        0              1   \n2                                0                        0              1   \n3                                0                        0              1   \n4                                0                        0              1   \n...                            ...                      ...            ...   \n62209                            0                        0              1   \n62210                            0                        0              1   \n62211                            0                        0              0   \n62212                            0                        0              1   \n62213                            0                        0              1   \n\n       SyyteoLiik_VT  \n0                  1  \n1                  0  \n2                  0  \n3                  0  \n4                  0  \n...              ...  \n62209              0  \n62210              0  \n62211              1  \n62212              0  \n62213              0  \n\n[96754 rows x 1188 columns]",
      "text/html": "<div>\n<style scoped>\n    .dataframe tbody tr th:only-of-type {\n        vertical-align: middle;\n    }\n\n    .dataframe tbody tr th {\n        vertical-align: top;\n    }\n\n    .dataframe thead th {\n        text-align: right;\n    }\n</style>\n<table border=\"1\" class=\"dataframe\">\n  <thead>\n    <tr style=\"text-align: right;\">\n      <th></th>\n      <th>ToimKpv</th>\n      <th>ToimKell</th>\n      <th>ToimNadalapaev_Esmaspäev</th>\n      <th>ToimNadalapaev_Kolmapäev</th>\n      <th>ToimNadalapaev_Laupäev</th>\n      <th>ToimNadalapaev_Neljapäev</th>\n      <th>ToimNadalapaev_Pühapäev</th>\n      <th>ToimNadalapaev_Reede</th>\n      <th>ToimNadalapaev_Teisipäev</th>\n      <th>KohtNimetus_Aa küla</th>\n      <th>...</th>\n      <th>KohtNimetus_Õisu alevik</th>\n      <th>KohtNimetus_Õru alevik</th>\n      <th>KohtNimetus_Õssu küla</th>\n      <th>KohtNimetus_Õuna küla</th>\n      <th>KohtNimetus_Üksnurme küla</th>\n      <th>KohtNimetus_Ülejõe küla</th>\n      <th>KohtNimetus_Ülenurme alevik</th>\n      <th>KohtNimetus_Ülgase küla</th>\n      <th>SyyteoLiik_KT</th>\n      <th>SyyteoLiik_VT</th>\n    </tr>\n  </thead>\n  <tbody>\n    <tr>\n      <th>0</th>\n      <td>2021-12-31</td>\n      <td>23:58</td>\n      <td>0</td>\n      <td>0</td>\n      <td>0</td>\n      <td>0</td>\n      <td>0</td>\n      <td>1</td>\n      <td>0</td>\n      <td>0</td>\n      <td>...</td>\n      <td>0</td>\n      <td>0</td>\n      <td>0</td>\n      <td>0</td>\n      <td>0</td>\n      <td>0</td>\n      <td>0</td>\n      <td>0</td>\n      <td>0</td>\n      <td>1</td>\n    </tr>\n    <tr>\n      <th>1</th>\n      <td>2021-12-31</td>\n      <td>18:41</td>\n      <td>0</td>\n      <td>0</td>\n      <td>0</td>\n      <td>0</td>\n      <td>0</td>\n      <td>1</td>\n      <td>0</td>\n      <td>0</td>\n      <td>...</td>\n      <td>0</td>\n      <td>0</td>\n      <td>0</td>\n      <td>0</td>\n      <td>0</td>\n      <td>0</td>\n      <td>0</td>\n      <td>0</td>\n      <td>1</td>\n      <td>0</td>\n    </tr>\n    <tr>\n      <th>2</th>\n      <td>2021-12-31</td>\n      <td>18:41</td>\n      <td>0</td>\n      <td>0</td>\n      <td>0</td>\n      <td>0</td>\n      <td>0</td>\n      <td>1</td>\n      <td>0</td>\n      <td>0</td>\n      <td>...</td>\n      <td>0</td>\n      <td>0</td>\n      <td>0</td>\n      <td>0</td>\n      <td>0</td>\n      <td>0</td>\n      <td>0</td>\n      <td>0</td>\n      <td>1</td>\n      <td>0</td>\n    </tr>\n    <tr>\n      <th>3</th>\n      <td>2021-12-31</td>\n      <td>16:00</td>\n      <td>0</td>\n      <td>0</td>\n      <td>0</td>\n      <td>0</td>\n      <td>0</td>\n      <td>1</td>\n      <td>0</td>\n      <td>0</td>\n      <td>...</td>\n      <td>0</td>\n      <td>0</td>\n      <td>0</td>\n      <td>0</td>\n      <td>0</td>\n      <td>0</td>\n      <td>0</td>\n      <td>0</td>\n      <td>1</td>\n      <td>0</td>\n    </tr>\n    <tr>\n      <th>4</th>\n      <td>2021-12-31</td>\n      <td>15:44</td>\n      <td>0</td>\n      <td>0</td>\n      <td>0</td>\n      <td>0</td>\n      <td>0</td>\n      <td>1</td>\n      <td>0</td>\n      <td>0</td>\n      <td>...</td>\n      <td>0</td>\n      <td>0</td>\n      <td>0</td>\n      <td>0</td>\n      <td>0</td>\n      <td>0</td>\n      <td>0</td>\n      <td>0</td>\n      <td>1</td>\n      <td>0</td>\n    </tr>\n    <tr>\n      <th>...</th>\n      <td>...</td>\n      <td>...</td>\n      <td>...</td>\n      <td>...</td>\n      <td>...</td>\n      <td>...</td>\n      <td>...</td>\n      <td>...</td>\n      <td>...</td>\n      <td>...</td>\n      <td>...</td>\n      <td>...</td>\n      <td>...</td>\n      <td>...</td>\n      <td>...</td>\n      <td>...</td>\n      <td>...</td>\n      <td>...</td>\n      <td>...</td>\n      <td>...</td>\n      <td>...</td>\n    </tr>\n    <tr>\n      <th>62209</th>\n      <td>2012-01-01</td>\n      <td>00:15</td>\n      <td>0</td>\n      <td>0</td>\n      <td>0</td>\n      <td>0</td>\n      <td>1</td>\n      <td>0</td>\n      <td>0</td>\n      <td>0</td>\n      <td>...</td>\n      <td>0</td>\n      <td>0</td>\n      <td>0</td>\n      <td>0</td>\n      <td>0</td>\n      <td>0</td>\n      <td>0</td>\n      <td>0</td>\n      <td>1</td>\n      <td>0</td>\n    </tr>\n    <tr>\n      <th>62210</th>\n      <td>2012-01-01</td>\n      <td>00:00</td>\n      <td>0</td>\n      <td>0</td>\n      <td>0</td>\n      <td>0</td>\n      <td>1</td>\n      <td>0</td>\n      <td>0</td>\n      <td>0</td>\n      <td>...</td>\n      <td>0</td>\n      <td>0</td>\n      <td>0</td>\n      <td>0</td>\n      <td>0</td>\n      <td>0</td>\n      <td>0</td>\n      <td>0</td>\n      <td>1</td>\n      <td>0</td>\n    </tr>\n    <tr>\n      <th>62211</th>\n      <td>2012-01-01</td>\n      <td>00:00</td>\n      <td>0</td>\n      <td>0</td>\n      <td>0</td>\n      <td>0</td>\n      <td>1</td>\n      <td>0</td>\n      <td>0</td>\n      <td>0</td>\n      <td>...</td>\n      <td>0</td>\n      <td>0</td>\n      <td>0</td>\n      <td>0</td>\n      <td>0</td>\n      <td>0</td>\n      <td>0</td>\n      <td>0</td>\n      <td>0</td>\n      <td>1</td>\n    </tr>\n    <tr>\n      <th>62212</th>\n      <td>2012-01-01</td>\n      <td>NaN</td>\n      <td>0</td>\n      <td>0</td>\n      <td>0</td>\n      <td>0</td>\n      <td>1</td>\n      <td>0</td>\n      <td>0</td>\n      <td>0</td>\n      <td>...</td>\n      <td>0</td>\n      <td>0</td>\n      <td>0</td>\n      <td>0</td>\n      <td>0</td>\n      <td>0</td>\n      <td>0</td>\n      <td>0</td>\n      <td>1</td>\n      <td>0</td>\n    </tr>\n    <tr>\n      <th>62213</th>\n      <td>2012-01-01</td>\n      <td>NaN</td>\n      <td>0</td>\n      <td>0</td>\n      <td>0</td>\n      <td>0</td>\n      <td>1</td>\n      <td>0</td>\n      <td>0</td>\n      <td>0</td>\n      <td>...</td>\n      <td>0</td>\n      <td>0</td>\n      <td>0</td>\n      <td>0</td>\n      <td>0</td>\n      <td>0</td>\n      <td>0</td>\n      <td>0</td>\n      <td>1</td>\n      <td>0</td>\n    </tr>\n  </tbody>\n</table>\n<p>96754 rows × 1188 columns</p>\n</div>"
     },
     "execution_count": 17,
     "metadata": {},
     "output_type": "execute_result"
    }
   ],
   "source": [
    "data2 = pd.read_csv(\"avalik_2.csv\", sep=\"\\t\")\n",
    "data3 = pd.read_csv(\"avalik_3.csv\", sep=\"\\t\")\n",
    "df = pd.concat([data2, data3])\n",
    "df.drop_duplicates(subset=\"JuhtumId\", inplace=True)\n",
    "\n",
    "df.drop(columns=[\"JuhtumId\", \"SyndmusTaiendavStatLiik\", \"Seadus\", \"Paragrahv\", \"ParagrahvTais\",\"Loige\", \"SyndmusLiik\", \"Kahjusumma\", \"KohtLiik\", \"MaakondNimetus\", \"Lest_X\", \"Lest_Y\", \"ValdLinnNimetus\"], inplace=True)\n",
    "data_dum = pd.get_dummies(df, columns=[\"ToimNadalapaev\", \"KohtNimetus\", \"SyyteoLiik\"])\n",
    "data_dum\n",
    "#df = df.dropna()\n",
    "#df\n",
    "\n"
   ],
   "metadata": {
    "collapsed": false
   }
  },
  {
   "cell_type": "code",
   "execution_count": 11,
   "outputs": [],
   "source": [
    "df.to_csv(\"data4model.csv\", index=False)"
   ],
   "metadata": {
    "collapsed": false
   }
  }
 ],
 "metadata": {
  "kernelspec": {
   "display_name": "Python 3",
   "language": "python",
   "name": "python3"
  },
  "language_info": {
   "codemirror_mode": {
    "name": "ipython",
    "version": 2
   },
   "file_extension": ".py",
   "mimetype": "text/x-python",
   "name": "python",
   "nbconvert_exporter": "python",
   "pygments_lexer": "ipython2",
   "version": "2.7.6"
  }
 },
 "nbformat": 4,
 "nbformat_minor": 0
}
